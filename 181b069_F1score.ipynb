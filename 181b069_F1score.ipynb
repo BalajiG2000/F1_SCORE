{
 "cells": [
  {
   "cell_type": "markdown",
   "metadata": {},
   "source": [
    "## 181B069 BALAJI G"
   ]
  },
  {
   "cell_type": "code",
   "execution_count": 1,
   "metadata": {},
   "outputs": [],
   "source": [
    "import numpy as np\n",
    "import pandas as pd\n"
   ]
  },
  {
   "cell_type": "code",
   "execution_count": 2,
   "metadata": {},
   "outputs": [],
   "source": [
    "data=pd.read_csv('data.csv')"
   ]
  },
  {
   "cell_type": "code",
   "execution_count": 3,
   "metadata": {},
   "outputs": [
    {
     "data": {
      "text/html": [
       "<div>\n",
       "<style scoped>\n",
       "    .dataframe tbody tr th:only-of-type {\n",
       "        vertical-align: middle;\n",
       "    }\n",
       "\n",
       "    .dataframe tbody tr th {\n",
       "        vertical-align: top;\n",
       "    }\n",
       "\n",
       "    .dataframe thead th {\n",
       "        text-align: right;\n",
       "    }\n",
       "</style>\n",
       "<table border=\"1\" class=\"dataframe\">\n",
       "  <thead>\n",
       "    <tr style=\"text-align: right;\">\n",
       "      <th></th>\n",
       "      <th>y_act</th>\n",
       "      <th>y_pred_random_forest</th>\n",
       "      <th>y_pred_logistic</th>\n",
       "    </tr>\n",
       "  </thead>\n",
       "  <tbody>\n",
       "    <tr>\n",
       "      <th>0</th>\n",
       "      <td>1</td>\n",
       "      <td>0.639816</td>\n",
       "      <td>0.531904</td>\n",
       "    </tr>\n",
       "    <tr>\n",
       "      <th>1</th>\n",
       "      <td>0</td>\n",
       "      <td>0.490993</td>\n",
       "      <td>0.414496</td>\n",
       "    </tr>\n",
       "    <tr>\n",
       "      <th>2</th>\n",
       "      <td>1</td>\n",
       "      <td>0.623815</td>\n",
       "      <td>0.569883</td>\n",
       "    </tr>\n",
       "    <tr>\n",
       "      <th>3</th>\n",
       "      <td>1</td>\n",
       "      <td>0.506616</td>\n",
       "      <td>0.443674</td>\n",
       "    </tr>\n",
       "    <tr>\n",
       "      <th>4</th>\n",
       "      <td>0</td>\n",
       "      <td>0.418302</td>\n",
       "      <td>0.369532</td>\n",
       "    </tr>\n",
       "  </tbody>\n",
       "</table>\n",
       "</div>"
      ],
      "text/plain": [
       "   y_act  y_pred_random_forest  y_pred_logistic\n",
       "0      1              0.639816         0.531904\n",
       "1      0              0.490993         0.414496\n",
       "2      1              0.623815         0.569883\n",
       "3      1              0.506616         0.443674\n",
       "4      0              0.418302         0.369532"
      ]
     },
     "execution_count": 3,
     "metadata": {},
     "output_type": "execute_result"
    }
   ],
   "source": [
    "data.head()"
   ]
  },
  {
   "cell_type": "code",
   "execution_count": 5,
   "metadata": {},
   "outputs": [],
   "source": [
    "#rounding the numbers\n",
    "data['y_pred_random_forest']=data['y_pred_random_forest'].apply(lambda x:round(x))\n",
    "data['y_pred_logistic']=data['y_pred_logistic'].apply(lambda x:round(x))\n"
   ]
  },
  {
   "cell_type": "code",
   "execution_count": 9,
   "metadata": {},
   "outputs": [],
   "source": [
    "def confusion_matrix(actual,prediction):\n",
    "    matrix = np.zeros([2,2])\n",
    "\n",
    "    TP,FP,TN,FN = 0,0,0,0\n",
    "    for i in range(len(actual)):\n",
    "        if actual[i]==prediction[i]==1.0:\n",
    "            TP += 1\n",
    "        if prediction[i]==1.0 and actual[i]!=prediction[i]:\n",
    "            FP += 1\n",
    "        if actual[i]==prediction[i]==0.0:\n",
    "            TN += 1\n",
    "        if prediction[i]==0 and actual[i]!=prediction[i]:\n",
    "            FN += 1\n",
    "    matrix[0][0]=TP\n",
    "    matrix[0][1]=FP\n",
    "    matrix[1][0]=FN\n",
    "    matrix[1][1]=TN\n",
    "    return matrix"
   ]
  },
  {
   "cell_type": "code",
   "execution_count": 10,
   "metadata": {},
   "outputs": [
    {
     "name": "stdout",
     "output_type": "stream",
     "text": [
      "Confusion Matrix for Random Forest \n",
      " [[5047. 2360.]\n",
      " [2832. 5519.]]\n"
     ]
    }
   ],
   "source": [
    "#confusion Matrix for random Forest\n",
    "rf=confusion_matrix(data['y_act'],data['y_pred_random_forest'])\n",
    "print(\"Confusion Matrix for Random Forest \\n {}\".format(rf))"
   ]
  },
  {
   "cell_type": "code",
   "execution_count": 11,
   "metadata": {},
   "outputs": [
    {
     "name": "stdout",
     "output_type": "stream",
     "text": [
      "Confusion Matrix for logistic Regression \n",
      " [[4279. 2454.]\n",
      " [3600. 5425.]]\n"
     ]
    }
   ],
   "source": [
    "#confusion Matrix for logistic Regression\n",
    "lr=confusion_matrix(data['y_act'],data['y_pred_logistic'])\n",
    "print(\"Confusion Matrix for logistic Regression \\n {}\".format(lr))"
   ]
  },
  {
   "cell_type": "code",
   "execution_count": 12,
   "metadata": {},
   "outputs": [
    {
     "name": "stdout",
     "output_type": "stream",
     "text": [
      "Precision Score for Random Forest 0.6814\n"
     ]
    }
   ],
   "source": [
    "#Precision for random Forest\n",
    "prec_rf = rf[0][0]/(rf[0][0]+rf[0][1])\n",
    "print(\"Precision Score for Random Forest {}\".format(round(prec_rf,4)))"
   ]
  },
  {
   "cell_type": "code",
   "execution_count": 13,
   "metadata": {},
   "outputs": [
    {
     "name": "stdout",
     "output_type": "stream",
     "text": [
      "Precision Score for Logic Regression 0.6355\n"
     ]
    }
   ],
   "source": [
    "#precision for logistic regression\n",
    "prec_lr= lr[0][0]/(lr[0][0]+lr[0][1])\n",
    "print(\"Precision Score for Logic Regression {}\".format(round(prec_lr,4)))"
   ]
  },
  {
   "cell_type": "code",
   "execution_count": 14,
   "metadata": {},
   "outputs": [
    {
     "name": "stdout",
     "output_type": "stream",
     "text": [
      "Recall Score for Random Forest 0.6406\n",
      "Recall Score for Logic Regression 0.5431\n"
     ]
    }
   ],
   "source": [
    "#Recall Score for random Forest\n",
    "recall_rf = rf[0][0]/(rf[0][0]+rf[1][0])\n",
    "print(\"Recall Score for Random Forest {}\".format(round(recall_rf,4)))\n",
    "#Recall Score for Logistic Regression\n",
    "recall_lr = lr[0][0]/(lr[0][0]+lr[1][0])\n",
    "print(\"Recall Score for Logic Regression {}\".format(round(recall_lr,4)))\n"
   ]
  },
  {
   "cell_type": "code",
   "execution_count": 15,
   "metadata": {},
   "outputs": [
    {
     "name": "stdout",
     "output_type": "stream",
     "text": [
      "Normal F1 Score for Random Forest 0.6603\n",
      "Normal F1 Score for Logistic Regression 0.5857\n"
     ]
    }
   ],
   "source": [
    "#Normal F1 Score for random Forest\n",
    "f1_rf = rf[0][0]/(rf[0][0]+(rf[0][1]+rf[1][0])/2)\n",
    "print(\"Normal F1 Score for Random Forest {}\".format(round(f1_rf,4)))\n",
    "#Normal F1 Score for Logistic Regression\n",
    "f1_lr = lr[0][0]/(lr[0][0]+(lr[0][1]+lr[1][0])/2)\n",
    "print(\"Normal F1 Score for Logistic Regression {}\".format(round(f1_lr,4)))"
   ]
  },
  {
   "cell_type": "code",
   "execution_count": null,
   "metadata": {},
   "outputs": [],
   "source": []
  }
 ],
 "metadata": {
  "kernelspec": {
   "display_name": "Python 3",
   "language": "python",
   "name": "python3"
  },
  "language_info": {
   "codemirror_mode": {
    "name": "ipython",
    "version": 3
   },
   "file_extension": ".py",
   "mimetype": "text/x-python",
   "name": "python",
   "nbconvert_exporter": "python",
   "pygments_lexer": "ipython3",
   "version": "3.7.3"
  }
 },
 "nbformat": 4,
 "nbformat_minor": 4
}
